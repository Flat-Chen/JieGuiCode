{
 "cells": [
  {
   "cell_type": "code",
   "execution_count": 1,
   "id": "4cfd991e",
   "metadata": {},
   "outputs": [],
   "source": [
    "from selenium.webdriver import Chrome, ActionChains\n",
    "from selenium.webdriver.chrome.options import Options"
   ]
  },
  {
   "cell_type": "code",
   "execution_count": 2,
   "id": "47caefae",
   "metadata": {},
   "outputs": [
    {
     "data": {
      "text/plain": [
       "{'identifier': '2'}"
      ]
     },
     "execution_count": 2,
     "metadata": {},
     "output_type": "execute_result"
    }
   ],
   "source": [
    "chrome_options = Options()\n",
    "# chrome_options.add_argument(\"--headless\")\n",
    "ip = '192.168.2.144:16127'\n",
    "#     chrome_options.add_argument(('--proxy-server=' + ip))\n",
    "chrome_options.add_argument('user-agent=Mozilla/5.0 (iPhone; CPU iPhone OS 13_2_3 like Mac OS X) AppleWebKit/605.1.15 (KHTML, like Gecko) Version/13.0.3 Mobile/15E148 Safari/604.1')\n",
    "\n",
    "driver = Chrome(options=chrome_options)\n",
    "\n",
    "with open('stealth.min.js') as f:\n",
    "    js = f.read()\n",
    "\n",
    "driver.execute_cdp_cmd(\"Page.addScriptToEvaluateOnNewDocument\", {\n",
    "  \"source\": js\n",
    "})"
   ]
  },
  {
   "cell_type": "code",
   "execution_count": 3,
   "id": "e66a1a06",
   "metadata": {},
   "outputs": [],
   "source": [
    "driver.get('https://m.guazi.com/detail?clueId=111801735')"
   ]
  },
  {
   "cell_type": "code",
   "execution_count": null,
   "id": "2984da89",
   "metadata": {},
   "outputs": [],
   "source": [
    "driver.execute_script('window.scrollTo(0,1400)')"
   ]
  },
  {
   "cell_type": "code",
   "execution_count": 4,
   "id": "647512a5",
   "metadata": {
    "scrolled": true
   },
   "outputs": [],
   "source": [
    "from lxml import etree\n",
    "html = etree.HTML(driver.page_source)"
   ]
  },
  {
   "cell_type": "code",
   "execution_count": 5,
   "id": "20bf5162",
   "metadata": {},
   "outputs": [
    {
     "name": "stdout",
     "output_type": "stream",
     "text": [
      "严选车\n"
     ]
    }
   ],
   "source": [
    "# 严选\n",
    "if '严选' in driver.page_source:\n",
    "    print('严选车')"
   ]
  },
  {
   "cell_type": "code",
   "execution_count": null,
   "id": "788973d3",
   "metadata": {},
   "outputs": [],
   "source": [
    "# 二手车价格\n",
    "price1 = html.xpath('//*[@id=\"__layout\"]/div/div[3]/div/div[1]/div[2]/span[1]/text()')[0]\n",
    "price1"
   ]
  },
  {
   "cell_type": "code",
   "execution_count": null,
   "id": "15f785ff",
   "metadata": {},
   "outputs": [],
   "source": [
    "# 车辆标题描述 \n",
    "shortdesc=html.xpath('//div/div[@class=\"m-car-title\"]/h4/text()')[0]\n",
    "shortdesc"
   ]
  },
  {
   "cell_type": "code",
   "execution_count": null,
   "id": "2e8e247a",
   "metadata": {},
   "outputs": [],
   "source": [
    "# 页面标题\n",
    "pagetitle=html.xpath('')\n",
    "pagetitle\n"
   ]
  },
  {
   "cell_type": "code",
   "execution_count": null,
   "id": "a701a1d8",
   "metadata": {},
   "outputs": [],
   "source": [
    "# 网站url\n",
    "url"
   ]
  },
  {
   "cell_type": "code",
   "execution_count": null,
   "id": "cdfe9fbe",
   "metadata": {},
   "outputs": [],
   "source": [
    "# 已售/在售 sale|sold\n",
    "\n",
    "status = 'sale'\n"
   ]
  },
  {
   "cell_type": "code",
   "execution_count": null,
   "id": "7cef40a8",
   "metadata": {},
   "outputs": [],
   "source": [
    "# brandname车型\n",
    "brand=shortdesc.split(' ')[0]\n",
    "brand"
   ]
  },
  {
   "cell_type": "code",
   "execution_count": null,
   "id": "2398f642",
   "metadata": {},
   "outputs": [],
   "source": [
    "# familyname车系\n",
    "series=shortdesc.split(' ')[1]\n",
    "series"
   ]
  },
  {
   "cell_type": "code",
   "execution_count": null,
   "id": "407b1e5d",
   "metadata": {},
   "outputs": [],
   "source": []
  },
  {
   "cell_type": "code",
   "execution_count": null,
   "id": "d8af9ecb",
   "metadata": {},
   "outputs": [],
   "source": [
    "# 年款\n",
    "makeyear=shortdesc.split(' ')[2]\n",
    "makeyear"
   ]
  },
  {
   "cell_type": "code",
   "execution_count": null,
   "id": "f383b03a",
   "metadata": {},
   "outputs": [],
   "source": [
    "# 注册年份\n",
    "registeryear=html.xpath('//div[@class=\"m-car-record__body--top\"]/div[@class=\"item\"][1]/p[1]/text()')[0]\n",
    "registeryear.strip()"
   ]
  },
  {
   "cell_type": "code",
   "execution_count": null,
   "id": "d1213471",
   "metadata": {},
   "outputs": [],
   "source": [
    "# 生产年份\n",
    "# info_dict['出厂日期']\n",
    "produceyear=info_dict['出厂日期']\n",
    "produceyear"
   ]
  },
  {
   "cell_type": "code",
   "execution_count": null,
   "id": "7be1cc40",
   "metadata": {},
   "outputs": [],
   "source": [
    "info_dict = {}\n",
    "divs = html.xpath('//div[@class=\"item\"]')\n",
    "for div in divs:\n",
    "    key_name = div.xpath('./p[1]/text()')[0].strip()\n",
    "    value_name = div.xpath('./p[2]/text()')[0].strip()\n",
    "#     print(key_name, value_name)\n",
    "    info_dict[key_name] = value_name"
   ]
  },
  {
   "cell_type": "code",
   "execution_count": null,
   "id": "768bd9ff",
   "metadata": {},
   "outputs": [],
   "source": [
    "info_dict"
   ]
  },
  {
   "cell_type": "code",
   "execution_count": null,
   "id": "8be25051",
   "metadata": {},
   "outputs": [],
   "source": [
    "# 车身类型\n",
    "bodystyle\n"
   ]
  },
  {
   "cell_type": "code",
   "execution_count": null,
   "id": "4139f63a",
   "metadata": {},
   "outputs": [],
   "source": [
    "flash = driver.find_element_by_xpath(\"//div[@class='m-car-record__footer']\")\n",
    "mouse_action = ActionChains(driver).click(flash).perform()"
   ]
  },
  {
   "cell_type": "code",
   "execution_count": null,
   "id": "02911585",
   "metadata": {},
   "outputs": [],
   "source": [
    "parameter_dict = {}\n",
    "configures = html.xpath('//li[@class=\"list-item__body__row\"]')\n",
    "for configure in configures:\n",
    "    key_name1=configure.xpath('./span[@class=\"list-item__body__row__title\"]/text()')[0].strip()\n",
    "    try:\n",
    "        value_name1=configure.xpath('./div[@class=\"list-item__body__row__content\"]/text()')[0].strip()\n",
    "    except:\n",
    "        try:\n",
    "            value_name1 = configure.xpath('./div[@class=\"list-item__body__row__content\"]/span/@class')[0].replace('list-item__body__row__content--','')\n",
    "        except:\n",
    "            value_name1 = ''.join(configure.xpath('./div[@class=\"list-item__body__row__content\"]//text()')).replace('\\n','').replace(' ','')\n",
    "#     key_name1=configure.xpath('./span/text()')\n",
    "#     value_name1=configure.xpath('./div/text()')\n",
    "    print(key_name1,value_name1)\n",
    "    parameter_dict[key_name1] = value_name1\n",
    "    "
   ]
  },
  {
   "cell_type": "code",
   "execution_count": null,
   "id": "4a79063e",
   "metadata": {},
   "outputs": [],
   "source": [
    "parameter_dict"
   ]
  },
  {
   "cell_type": "code",
   "execution_count": null,
   "id": "0471f35d",
   "metadata": {},
   "outputs": [],
   "source": [
    "# familyname生产厂家\n",
    "factoryname=parameter_dict['厂商']\n",
    "factoryname"
   ]
  },
  {
   "cell_type": "code",
   "execution_count": null,
   "id": "c1dec7f3",
   "metadata": {},
   "outputs": [],
   "source": [
    "# 车身类型\n",
    "bodystyle=parameter_dict['车身形式']\n",
    "bodystyle"
   ]
  },
  {
   "cell_type": "code",
   "execution_count": null,
   "id": "2007b40b",
   "metadata": {},
   "outputs": [],
   "source": [
    "# 级别\n",
    "level=parameter_dict['车身形式']\n",
    "level"
   ]
  },
  {
   "cell_type": "code",
   "execution_count": null,
   "id": "737c57ad",
   "metadata": {},
   "outputs": [],
   "source": [
    "# 燃油类型\n",
    "fueltype=parameter_dict['能源形式']\n",
    "fueltype"
   ]
  },
  {
   "cell_type": "code",
   "execution_count": null,
   "id": "9eb397c5",
   "metadata": {},
   "outputs": [],
   "source": [
    "# 驱动类型\n",
    "driverway=parameter_dict['驱动方式']\n",
    "driverway\n"
   ]
  },
  {
   "cell_type": "code",
   "execution_count": null,
   "id": "d239b474",
   "metadata": {},
   "outputs": [],
   "source": [
    "# 车身类型\n",
    "body=parameter_dict['车身形式']\n",
    "body"
   ]
  },
  {
   "cell_type": "code",
   "execution_count": null,
   "id": "9c065849",
   "metadata": {},
   "outputs": [],
   "source": [
    "# 排量\n",
    "output=parameter_dict['排量(L)']\n",
    "output"
   ]
  },
  {
   "cell_type": "code",
   "execution_count": null,
   "id": "b856d6a2",
   "metadata": {},
   "outputs": [],
   "source": [
    "# 指导价(含税)\n",
    "guidepricetax=parameter_dict['厂商指导价(万元)']\n",
    "guidepricetax\n"
   ]
  },
  {
   "cell_type": "code",
   "execution_count": null,
   "id": "d5b78745",
   "metadata": {},
   "outputs": [],
   "source": [
    "# 车门数量\n",
    "doors=parameter_dict['车门数(个)']\n",
    "doors\n"
   ]
  },
  {
   "cell_type": "code",
   "execution_count": null,
   "id": "391e77d4",
   "metadata": {},
   "outputs": [],
   "source": [
    "# 排放标准\n",
    "emission=html.xpath('//div[@class=\"m-car-record__body--top\"]/div[@class=\"item\"][3]/p[@class=\"text\"]/text()')[0].strip()\n",
    "emission\n"
   ]
  },
  {
   "cell_type": "code",
   "execution_count": null,
   "id": "68bb8b5f",
   "metadata": {},
   "outputs": [],
   "source": [
    "#变速箱描述\n",
    "gear=parameter_dict['变速器描述']\n",
    "gear\n"
   ]
  },
  {
   "cell_type": "code",
   "execution_count": null,
   "id": "910dea7f",
   "metadata": {},
   "outputs": [],
   "source": [
    "#变速箱类型\n",
    "geartype=parameter_dict['变速箱类型']\n",
    "geartype\n"
   ]
  },
  {
   "cell_type": "code",
   "execution_count": null,
   "id": "4c27f5b8",
   "metadata": {},
   "outputs": [],
   "source": [
    "#座位数\n",
    "seats=parameter_dict['座位数(个)']\n",
    "seats\n"
   ]
  },
  {
   "cell_type": "code",
   "execution_count": null,
   "id": "97cc6845",
   "metadata": {},
   "outputs": [],
   "source": [
    "# 车长\n",
    "length=parameter_dict['长度(mm)']\n",
    "length\n"
   ]
  },
  {
   "cell_type": "code",
   "execution_count": null,
   "id": "805e19a1",
   "metadata": {},
   "outputs": [],
   "source": [
    "# 车宽\n",
    "width=parameter_dict['宽度(mm)']\n",
    "width\n"
   ]
  },
  {
   "cell_type": "code",
   "execution_count": null,
   "id": "b227e5fa",
   "metadata": {},
   "outputs": [],
   "source": [
    "# 车高\n",
    "height=parameter_dict['高度(mm)']\n",
    "height\n"
   ]
  },
  {
   "cell_type": "code",
   "execution_count": null,
   "id": "abcf72ea",
   "metadata": {},
   "outputs": [],
   "source": [
    "# 档位数\n",
    "gearnumber=parameter_dict['挡位个数']\n",
    "gearnumber\n"
   ]
  },
  {
   "cell_type": "code",
   "execution_count": null,
   "id": "48cd0be7",
   "metadata": {},
   "outputs": [],
   "source": [
    "# 整备质量\n",
    "weight=parameter_dict['整备质量(kg)']\n",
    "weight\n"
   ]
  },
  {
   "cell_type": "code",
   "execution_count": null,
   "id": "da67ff82",
   "metadata": {},
   "outputs": [],
   "source": [
    "# 轴距\n",
    "wheelbase=parameter_dict['轴距(mm)']\n",
    "wheelbase\n"
   ]
  },
  {
   "cell_type": "code",
   "execution_count": null,
   "id": "c3cc3e86",
   "metadata": {},
   "outputs": [],
   "source": [
    "# 燃油标号\n",
    "fuelnumber=parameter_dict['燃油标号']\n",
    "fuelnumber"
   ]
  },
  {
   "cell_type": "code",
   "execution_count": null,
   "id": "86b68bc2",
   "metadata": {},
   "outputs": [],
   "source": [
    "# 气缸排列型式\n",
    "lwv=parameter_dict['气缸排列形式']\n",
    "lwv"
   ]
  },
  {
   "cell_type": "code",
   "execution_count": null,
   "id": "b6867a4c",
   "metadata": {},
   "outputs": [],
   "source": [
    "# 气缸数\n",
    "lwvnumber=parameter_dict['气缸数(个)']\n",
    "lwvnumber"
   ]
  },
  {
   "cell_type": "code",
   "execution_count": null,
   "id": "0e742939",
   "metadata": {},
   "outputs": [],
   "source": [
    "# 最大扭矩\n",
    "maxnm=parameter_dict['最大扭矩(N·m)']\n",
    "maxnm"
   ]
  },
  {
   "cell_type": "code",
   "execution_count": null,
   "id": "a4d545b5",
   "metadata": {},
   "outputs": [],
   "source": [
    "# 最大马力\n",
    "maxps=parameter_dict['最大马力(Ps)']\n",
    "maxps\n"
   ]
  },
  {
   "cell_type": "code",
   "execution_count": null,
   "id": "936d0af2",
   "metadata": {},
   "outputs": [],
   "source": [
    "# 最大功率\n",
    "maxpower=parameter_dict['最大功率(kW)']\n",
    "maxpower\n"
   ]
  },
  {
   "cell_type": "code",
   "execution_count": null,
   "id": "702dfd20",
   "metadata": {},
   "outputs": [],
   "source": [
    "# 前轮距\n",
    "frontgauge=parameter_dict['前轮距(mm)']\n",
    "frontgauge\n"
   ]
  },
  {
   "cell_type": "code",
   "execution_count": null,
   "id": "de0c5f1e",
   "metadata": {},
   "outputs": [],
   "source": [
    "# 注册时间\n",
    "registerdate=html.xpath('')\n",
    "registerdate\n"
   ]
  },
  {
   "cell_type": "code",
   "execution_count": null,
   "id": "edfc73bf",
   "metadata": {},
   "outputs": [],
   "source": []
  },
  {
   "cell_type": "code",
   "execution_count": null,
   "id": "10552db9",
   "metadata": {},
   "outputs": [],
   "source": []
  },
  {
   "cell_type": "code",
   "execution_count": null,
   "id": "bd5160b1",
   "metadata": {},
   "outputs": [],
   "source": []
  },
  {
   "cell_type": "code",
   "execution_count": null,
   "id": "3038ac81",
   "metadata": {},
   "outputs": [],
   "source": []
  },
  {
   "cell_type": "code",
   "execution_count": null,
   "id": "29de7d1d",
   "metadata": {},
   "outputs": [],
   "source": []
  }
 ],
 "metadata": {
  "kernelspec": {
   "display_name": "Python 3",
   "language": "python",
   "name": "python3"
  },
  "language_info": {
   "codemirror_mode": {
    "name": "ipython",
    "version": 3
   },
   "file_extension": ".py",
   "mimetype": "text/x-python",
   "name": "python",
   "nbconvert_exporter": "python",
   "pygments_lexer": "ipython3",
   "version": "3.8.8"
  }
 },
 "nbformat": 4,
 "nbformat_minor": 5
}
