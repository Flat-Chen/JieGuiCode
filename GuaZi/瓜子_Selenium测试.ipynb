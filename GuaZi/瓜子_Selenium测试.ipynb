{
 "cells": [
  {
   "cell_type": "code",
   "execution_count": null,
   "id": "74edaef0",
   "metadata": {},
   "outputs": [],
   "source": [
    "from selenium.webdriver import Chrome, ActionChains, FirefoxProfile\n",
    "from selenium.webdriver.chrome.options import Options\n",
    "from PIL import Image\n",
    "import time\n",
    "from selenium import webdriver\n",
    "import pytesseract"
   ]
  },
  {
   "cell_type": "code",
   "execution_count": null,
   "id": "36c1fa27",
   "metadata": {
    "pycharm": {
     "is_executing": true
    }
   },
   "outputs": [],
   "source": [
    "chrome_options = Options()\n",
    "# chrome_options.add_argument('--headless')\n",
    "# chrome_options.add_argument('--disable-gpu')\n",
    "# chrome_options.add_argument('--no-sandbox')\n",
    "# 去掉提示：Chrome正收到自动测试软件的控制\n",
    "chrome_options.add_argument('disable-infobars')\n",
    "# chrome_options.add_argument('--proxy-server=192.168.2.144:16127')\n",
    "ua = 'Mozilla/5.0 (Windows NT 6.1; WOW64) AppleWebKit/537.1 (KHTML, like Gecko) Chrome/22.0.1207.1 Safari/537.1'\n",
    "chrome_options.add_argument('user-agent=' + ua)\n",
    "browser = Chrome(options=chrome_options)"
   ]
  },
  {
   "cell_type": "code",
   "execution_count": null,
   "id": "57f642fd",
   "metadata": {
    "pycharm": {
     "is_executing": true
    }
   },
   "outputs": [],
   "source": [
    "# browser.get('https://www.guazi.com/buy')"
   ]
  },
  {
   "cell_type": "code",
   "execution_count": null,
   "id": "58f9e122",
   "metadata": {
    "pycharm": {
     "is_executing": true
    }
   },
   "outputs": [],
   "source": [
    "browser.get('https://www.guazi.com/Detail?clueId=112678073')"
   ]
  },
  {
   "cell_type": "code",
   "execution_count": null,
   "id": "a16c7d97",
   "metadata": {
    "pycharm": {
     "is_executing": true
    }
   },
   "outputs": [],
   "source": [
    "# driver = webdriver.Chrome()\n",
    "# driver.get('https://www.guazi.com/Detail?clueId=112678073')\n",
    "browser.get('https://www.guazi.com/Detail?clueId=112678073')"
   ]
  },
  {
   "cell_type": "code",
   "execution_count": null,
   "id": "0ddd511a",
   "metadata": {
    "pycharm": {
     "is_executing": true
    },
    "scrolled": true
   },
   "outputs": [],
   "source": [
    "page_text = browser.page_source"
   ]
  },
  {
   "cell_type": "code",
   "execution_count": null,
   "id": "28208ce0",
   "metadata": {
    "pycharm": {
     "is_executing": true
    }
   },
   "outputs": [],
   "source": [
    "# price_first = browser.find_element_by_xpath('//*[@id=\"pageWrapper\"]/div[1]/div[3]/div[2]/div[1]/div[1]/div[2]/p/span[1]')\n",
    "# price_first.screenshot('yzm.png')"
   ]
  },
  {
   "cell_type": "code",
   "execution_count": null,
   "id": "5ace4f14",
   "metadata": {
    "pycharm": {
     "is_executing": true
    }
   },
   "outputs": [],
   "source": [
    "price_first = browser.find_element_by_xpath('//*[@id=\"pageWrapper\"]/div[1]/div[3]/div[4]/div[2]/ul[1]/li[1]/span')\n",
    "price_first.screenshot('yzm.png')"
   ]
  },
  {
   "cell_type": "code",
   "execution_count": null,
   "id": "320f06ff",
   "metadata": {
    "pycharm": {
     "is_executing": true
    }
   },
   "outputs": [],
   "source": []
  },
  {
   "cell_type": "code",
   "execution_count": null,
   "id": "df4db452",
   "metadata": {
    "pycharm": {
     "is_executing": true
    }
   },
   "outputs": [],
   "source": [
    "image_obj = Image.open('yzm.png')"
   ]
  },
  {
   "cell_type": "code",
   "execution_count": null,
   "id": "02645099",
   "metadata": {
    "pycharm": {
     "is_executing": true
    },
    "scrolled": true
   },
   "outputs": [],
   "source": [
    "price_text = pytesseract.image_to_string(image_obj, lang=\"eng\")\n",
    "print(price_text)"
   ]
  },
  {
   "cell_type": "code",
   "execution_count": null,
   "id": "2f76bbbf",
   "metadata": {
    "pycharm": {
     "is_executing": true
    }
   },
   "outputs": [],
   "source": []
  },
  {
   "cell_type": "code",
   "execution_count": null,
   "id": "25cf53c2",
   "metadata": {
    "pycharm": {
     "is_executing": true
    }
   },
   "outputs": [],
   "source": []
  },
  {
   "cell_type": "code",
   "execution_count": null,
   "id": "ca2d5d99",
   "metadata": {
    "pycharm": {
     "is_executing": true
    }
   },
   "outputs": [],
   "source": []
  },
  {
   "cell_type": "code",
   "execution_count": null,
   "id": "b04db9cc",
   "metadata": {
    "pycharm": {
     "is_executing": true
    }
   },
   "outputs": [],
   "source": []
  },
  {
   "cell_type": "code",
   "execution_count": null,
   "id": "55ef1bb1",
   "metadata": {
    "pycharm": {
     "is_executing": true
    }
   },
   "outputs": [],
   "source": [
    "from lxml import etree\n",
    "import time"
   ]
  },
  {
   "cell_type": "code",
   "execution_count": null,
   "id": "7c8d4fd8",
   "metadata": {
    "pycharm": {
     "is_executing": true
    }
   },
   "outputs": [],
   "source": [
    "html = etree.HTML(page_text)"
   ]
  },
  {
   "cell_type": "code",
   "execution_count": null,
   "id": "f7ba350f",
   "metadata": {
    "pycharm": {
     "is_executing": true
    }
   },
   "outputs": [],
   "source": [
    "car_list = html.xpath('//div[@class=\"carlist-content clearfix\"]/div')\n",
    "j = 1\n",
    "for i in car_list:\n",
    "    car_name = i.xpath('.//h5/text()')[0].strip().replace('\\n','')\n",
    "    print(car_name)\n",
    "    price_first = browser.find_element_by_xpath('//div[@class=\"carlist-content clearfix\"]/div[{}]//p[@class=\"price-now\"]'.format(j))\n",
    "    price_first.screenshot('yzm_{}.png'.format(j))\n",
    "    image_obj = Image.open('yzm_{}.png'.format(j))\n",
    "    price_text = pytesseract.image_to_string(image_obj, lang=\"eng\")\n",
    "    print(price_text)\n",
    "    j = j + 1"
   ]
  },
  {
   "cell_type": "code",
   "execution_count": null,
   "id": "e1f1399e",
   "metadata": {
    "pycharm": {
     "is_executing": true
    }
   },
   "outputs": [],
   "source": []
  },
  {
   "cell_type": "code",
   "execution_count": null,
   "id": "6af3cb47",
   "metadata": {
    "pycharm": {
     "is_executing": true
    }
   },
   "outputs": [],
   "source": []
  },
  {
   "cell_type": "code",
   "execution_count": null,
   "id": "a2a23a3d",
   "metadata": {
    "pycharm": {
     "is_executing": true
    }
   },
   "outputs": [],
   "source": []
  },
  {
   "cell_type": "code",
   "execution_count": null,
   "id": "05e65407",
   "metadata": {
    "pycharm": {
     "is_executing": true
    }
   },
   "outputs": [],
   "source": []
  },
  {
   "cell_type": "code",
   "execution_count": 13,
   "id": "f72f2111",
   "metadata": {
    "pycharm": {
     "is_executing": true
    }
   },
   "outputs": [],
   "source": [
    "from selenium.webdriver import Chrome, ActionChains, FirefoxProfile\n",
    "from selenium.webdriver.chrome.options import Options\n",
    "from PIL import Image\n",
    "import time\n",
    "from selenium import webdriver\n",
    "import pytesseract\n",
    "import requests\n",
    "import json"
   ]
  },
  {
   "cell_type": "code",
   "execution_count": 14,
   "id": "634a8dc8",
   "metadata": {},
   "outputs": [],
   "source": [
    "url = 'https://mapi.guazi.com/car-source/carList/pcList?minor=&sourceType=&ec_buy_car_list_ab=&location_city=&district_id=&tag=-1&license_date=&auto_type=&driving_type=&gearbox=&road_haul=&air_displacement=&emission=&car_color=&guobie=&bright_spot_config=&seat=&fuel_type=&order=&priceRange=0,-1&tag_types=&diff_city=&intention_options=&initialPriceRange=&monthlyPriceRange=&transfer_num=&car_year=&carid_qigangshu=&carid_jinqixingshi=&cheliangjibie=&page=1&pageSize=20&city_filter=12&city=12&guazi_city=12&qpres=&versionId=0.0.0.0&osv=Unknown&platfromSource=wap'\n",
    "response = requests.get(url=url,headers = {\n",
    "    'user-agent': 'Mozilla/5.0 (Windows NT 10.0; Win64; x64) AppleWebKit/537.36 (KHTML, like Gecko) Chrome/94.0.4606.61 Safari/537.36'\n",
    "})\n",
    "# print(response.text)\n",
    "json_data = json.loads(response.text)"
   ]
  },
  {
   "cell_type": "code",
   "execution_count": 15,
   "id": "b4b5dc53",
   "metadata": {},
   "outputs": [],
   "source": [
    "clue_list_all = []\n",
    "for car_list in json_data['data']['postList']:\n",
    "    clue_id = car_list['clue_id']\n",
    "    #       clue_id_list=\n",
    "    #     print(clue_id)\n",
    "    #       clue_id.append(car_list)\n",
    "    #       print(clue_id)\n",
    "    clue_id=str(clue_id)\n",
    "    clue_id_list = clue_id.split( )\n",
    "    #       print(clue_id_list)\n",
    "    clue_list_all.append(clue_id_list[0])\n",
    "    clue_url_list = []\n",
    "    # clue_id_list=[]\n",
    "    for i in clue_list_all:\n",
    "        url = 'https://www.guazi.com/Detail?clueId={}'.format(i)\n",
    "    #     print(url)\n",
    "        clue_url_list.append(url)\n",
    "    clue_url='\\n'.join(clue_url_list)\n",
    "# print(clue_url)"
   ]
  },
  {
   "cell_type": "code",
   "execution_count": 16,
   "id": "3ea74458",
   "metadata": {
    "pycharm": {
     "is_executing": true
    }
   },
   "outputs": [],
   "source": [
    "chrome_options = Options()\n",
    "# chrome_options.add_argument('--headless')\n",
    "# chrome_options.add_argument('--disable-gpu')\n",
    "# chrome_options.add_argument('--no-sandbox')\n",
    "# 去掉提示：Chrome正收到自动测试软件的控制\n",
    "chrome_options.add_argument('disable-infobars')\n",
    "# chrome_options.add_argument('--proxy-server=192.168.2.144:16127')\n",
    "ua = 'Mozilla/5.0 (Windows NT 6.1; WOW64) AppleWebKit/537.1 (KHTML, like Gecko) Chrome/22.0.1207.1 Safari/537.1'\n",
    "chrome_options.add_argument('user-agent=' + ua)\n",
    "browser = Chrome(options=chrome_options)"
   ]
  },
  {
   "cell_type": "code",
   "execution_count": null,
   "id": "74460984",
   "metadata": {},
   "outputs": [],
   "source": [
    "browser.get('clue_list_all[0]')"
   ]
  },
  {
   "cell_type": "code",
   "execution_count": null,
   "id": "20c9149d",
   "metadata": {},
   "outputs": [],
   "source": []
  },
  {
   "cell_type": "code",
   "execution_count": null,
   "id": "f4ba6333",
   "metadata": {},
   "outputs": [],
   "source": []
  },
  {
   "cell_type": "code",
   "execution_count": null,
   "id": "1fc7bba6",
   "metadata": {},
   "outputs": [],
   "source": []
  },
  {
   "cell_type": "code",
   "execution_count": null,
   "id": "88d4b2e1",
   "metadata": {},
   "outputs": [],
   "source": []
  },
  {
   "cell_type": "code",
   "execution_count": null,
   "id": "dfafa227",
   "metadata": {},
   "outputs": [],
   "source": [
    "def xiangqing_parse(self, response):\n",
    "        car_name = response.meta['car_name']\n",
    "        print(car_name)\n",
    "        shangpai_time=response.xpthon('//div[@id=\"pageWrapper\"]/div[1]/div[3]/div[4]/div[2]/ul[1]/li[1]/span[1]')\n",
    "        biaoxian_mileage=response.xpthon('//div[@id=\"pageWrapper\"]/div[1]/div[3]/div[4]/div[2]/ul[1]/li[1]/span[2]')\n",
    "        displacement=response.xpthon('//div[@id=\"pageWrapper\"]/div[1]/div[3]/div[4]/div[2]/ul[1]/li[1]/span[3]')\n",
    "        biansuxiang=response.xpthon('//div[@id=\"pageWrapper\"]/div[1]/div[3]/div[4]/div[2]/ul[1]/li[1]/span[4]')\n",
    "        print(\"上牌时间:\",shangpai_time)\n",
    "        print(\"表显里程:\",  biaoxian_mileage)\n",
    "        print(\"排量:\",  displacement)\n",
    "        print(\"变速箱:\",  displacement)"
   ]
  },
  {
   "cell_type": "code",
   "execution_count": null,
   "id": "769d1fc7",
   "metadata": {},
   "outputs": [],
   "source": [
    "page_text = browser.page_source"
   ]
  },
  {
   "cell_type": "code",
   "execution_count": null,
   "id": "e72e08c1",
   "metadata": {},
   "outputs": [],
   "source": [
    "price_first = browser.find_element_by_xpath('//*[@id=\"pageWrapper\"]/div[1]/div[3]/div[4]/div[2]/ul[1]/li[1]/span')\n",
    "price_first.screenshot('yzm.png')"
   ]
  },
  {
   "cell_type": "code",
   "execution_count": null,
   "id": "9135e575",
   "metadata": {},
   "outputs": [],
   "source": [
    "image_obj = Image.open('yzm.png')"
   ]
  },
  {
   "cell_type": "code",
   "execution_count": null,
   "id": "af3a6cf4",
   "metadata": {},
   "outputs": [],
   "source": [
    "price_text = pytesseract.image_to_string(image_obj, lang=\"eng\")\n",
    "print(price_text)"
   ]
  },
  {
   "cell_type": "code",
   "execution_count": null,
   "id": "c071d65a",
   "metadata": {},
   "outputs": [],
   "source": [
    "from lxml import etree\n",
    "import time"
   ]
  },
  {
   "cell_type": "code",
   "execution_count": null,
   "id": "4a657585",
   "metadata": {},
   "outputs": [],
   "source": [
    "html = etree.HTML(page_text)"
   ]
  },
  {
   "cell_type": "code",
   "execution_count": null,
   "id": "d4a403bc",
   "metadata": {},
   "outputs": [],
   "source": []
  },
  {
   "cell_type": "code",
   "execution_count": null,
   "id": "898129e3",
   "metadata": {},
   "outputs": [],
   "source": []
  },
  {
   "cell_type": "code",
   "execution_count": null,
   "id": "7f98dbd0",
   "metadata": {},
   "outputs": [],
   "source": []
  },
  {
   "cell_type": "code",
   "execution_count": null,
   "id": "f8a64a1a",
   "metadata": {},
   "outputs": [],
   "source": []
  },
  {
   "cell_type": "code",
   "execution_count": null,
   "id": "2eaaddf5",
   "metadata": {},
   "outputs": [],
   "source": []
  },
  {
   "cell_type": "code",
   "execution_count": null,
   "id": "a909a257",
   "metadata": {},
   "outputs": [],
   "source": []
  },
  {
   "cell_type": "code",
   "execution_count": null,
   "id": "29ae7235",
   "metadata": {},
   "outputs": [],
   "source": []
  },
  {
   "cell_type": "code",
   "execution_count": null,
   "id": "db5534bd",
   "metadata": {
    "pycharm": {
     "is_executing": true
    }
   },
   "outputs": [],
   "source": [
    "def parse(self,response):\n",
    "    car_pinpai=response.xpath('//div[@id=\"pageWrapper\"]/div[1]/div[3]/div[2]/div[1]/div[1]each')\n",
    "    for each_car in car_pinpai:\n",
    "        car_name=each_car.xpath('.//[1]').extract_first()\n",
    "        car_url=\n",
    "        yield scrapy.Request(url=car_url, callback=self.xiangqing_parse, meta={'car_name': car_name})"
   ]
  },
  {
   "cell_type": "code",
   "execution_count": null,
   "id": "c8e029f0",
   "metadata": {},
   "outputs": [],
   "source": [
    "#  next_url ='https://www.guazi.com/Detail?clueId=109772989'"
   ]
  },
  {
   "cell_type": "code",
   "execution_count": null,
   "id": "19c8b898",
   "metadata": {
    "pycharm": {
     "is_executing": true
    }
   },
   "outputs": [],
   "source": [
    "def xiangqing_parse(self, response):\n",
    "     item = {}\n",
    "        car_name = response.meta['car_name']\n",
    "        print(car_name)\n",
    "        shangpai_time=response.xpthon('//div[@id='pageWrapper']/div[1]/div[3]/div[4]/div[2]/ul[1]/li[1]/span[1]')\n",
    "        print"
   ]
  },
  {
   "cell_type": "code",
   "execution_count": null,
   "id": "e8b6c439",
   "metadata": {
    "pycharm": {
     "is_executing": true
    }
   },
   "outputs": [],
   "source": [
    "import requests\n",
    "import json"
   ]
  },
  {
   "cell_type": "code",
   "execution_count": null,
   "id": "9d88549d",
   "metadata": {
    "pycharm": {
     "is_executing": true
    }
   },
   "outputs": [],
   "source": [
    "url = 'https://mapi.guazi.com/car-source/carList/pcList?minor=&sourceType=&ec_buy_car_list_ab=&location_city=&district_id=&tag=-1&license_date=&auto_type=&driving_type=&gearbox=&road_haul=&air_displacement=&emission=&car_color=&guobie=&bright_spot_config=&seat=&fuel_type=&order=&priceRange=0,-1&tag_types=&diff_city=&intention_options=&initialPriceRange=&monthlyPriceRange=&transfer_num=&car_year=&carid_qigangshu=&carid_jinqixingshi=&cheliangjibie=&page=1&pageSize=20&city_filter=12&city=12&guazi_city=12&qpres=&versionId=0.0.0.0&osv=Unknown&platfromSource=wap'\n",
    "response = requests.get(url=url,headers = {\n",
    "    'user-agent': 'Mozilla/5.0 (Windows NT 10.0; Win64; x64) AppleWebKit/537.36 (KHTML, like Gecko) Chrome/94.0.4606.61 Safari/537.36'\n",
    "})\n",
    "# print(response.text)\n",
    "json_data = json.loads(response.text)"
   ]
  },
  {
   "cell_type": "code",
   "execution_count": null,
   "id": "828b57f6",
   "metadata": {
    "pycharm": {
     "is_executing": true
    }
   },
   "outputs": [],
   "source": [
    "clue_list_all = []\n",
    "for car_list in json_data['data']['postList']:\n",
    "    clue_id = car_list['clue_id']\n",
    "    #       clue_id_list=\n",
    "    #     print(clue_id)\n",
    "    #       clue_id.append(car_list)\n",
    "    #       print(clue_id)\n",
    "    clue_id=str(clue_id)\n",
    "    clue_id_list = clue_id.split( )\n",
    "    #       print(clue_id_list)\n",
    "    clue_list_all.append(clue_id_list[0])\n",
    "print(clue_list_all)"
   ]
  },
  {
   "cell_type": "code",
   "execution_count": null,
   "id": "be90fd33",
   "metadata": {
    "pycharm": {
     "is_executing": true
    }
   },
   "outputs": [],
   "source": [
    "clue_url_list = []\n",
    "# clue_id_list=[]\n",
    "for i in clue_list_all:\n",
    "    url = 'https://www.guazi.com/Detail?clueId={}'.format(i)\n",
    "#     print(url)\n",
    "    clue_url_list.append(url)\n",
    "print(clue_url_list)"
   ]
  },
  {
   "cell_type": "code",
   "execution_count": null,
   "id": "d3d9ce56",
   "metadata": {
    "pycharm": {
     "is_executing": true
    }
   },
   "outputs": [],
   "source": [
    "clue_url_list"
   ]
  },
  {
   "cell_type": "code",
   "execution_count": null,
   "id": "87262759",
   "metadata": {
    "pycharm": {
     "is_executing": true
    }
   },
   "outputs": [],
   "source": []
  },
  {
   "cell_type": "code",
   "execution_count": null,
   "id": "ee5588da",
   "metadata": {
    "pycharm": {
     "is_executing": true
    }
   },
   "outputs": [],
   "source": []
  },
  {
   "cell_type": "code",
   "execution_count": null,
   "id": "4cbf0d2f",
   "metadata": {
    "pycharm": {
     "is_executing": true
    }
   },
   "outputs": [],
   "source": [
    "\n"
   ]
  }
 ],
 "metadata": {
  "kernelspec": {
   "display_name": "Python 3",
   "language": "python",
   "name": "python3"
  },
  "language_info": {
   "codemirror_mode": {
    "name": "ipython",
    "version": 3
   },
   "file_extension": ".py",
   "mimetype": "text/x-python",
   "name": "python",
   "nbconvert_exporter": "python",
   "pygments_lexer": "ipython3",
   "version": "3.8.8"
  }
 },
 "nbformat": 4,
 "nbformat_minor": 5
}
