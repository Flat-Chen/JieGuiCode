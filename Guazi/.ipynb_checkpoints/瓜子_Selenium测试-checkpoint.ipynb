{
 "cells": [
  {
   "cell_type": "code",
   "execution_count": 20,
   "id": "74edaef0",
   "metadata": {},
   "outputs": [],
   "source": [
    "from selenium.webdriver import Chrome, ActionChains, FirefoxProfile\n",
    "from selenium.webdriver.chrome.options import Options\n",
    "from PIL import Image\n",
    "import time\n",
    "from selenium import webdriver\n",
    "import pytesseract"
   ]
  },
  {
   "cell_type": "code",
   "execution_count": 21,
   "id": "36c1fa27",
   "metadata": {},
   "outputs": [],
   "source": [
    "chrome_options = Options()\n",
    "# chrome_options.add_argument('--headless')\n",
    "# chrome_options.add_argument('--disable-gpu')\n",
    "# chrome_options.add_argument('--no-sandbox')\n",
    "# 去掉提示：Chrome正收到自动测试软件的控制\n",
    "chrome_options.add_argument('disable-infobars')\n",
    "# chrome_options.add_argument('--proxy-server=192.168.2.144:16127')\n",
    "ua = 'Mozilla/5.0 (Windows NT 6.1; WOW64) AppleWebKit/537.1 (KHTML, like Gecko) Chrome/22.0.1207.1 Safari/537.1'\n",
    "chrome_options.add_argument('user-agent=' + ua)\n",
    "browser = Chrome(options=chrome_options)"
   ]
  },
  {
   "cell_type": "code",
   "execution_count": 3,
   "id": "57f642fd",
   "metadata": {},
   "outputs": [],
   "source": [
    "# browser.get('https://www.guazi.com/buy')"
   ]
  },
  {
   "cell_type": "code",
   "execution_count": 22,
   "id": "58f9e122",
   "metadata": {},
   "outputs": [],
   "source": [
    "browser.get('https://www.guazi.com/Detail?clueId=112678073')"
   ]
  },
  {
   "cell_type": "code",
   "execution_count": 23,
   "id": "a16c7d97",
   "metadata": {},
   "outputs": [],
   "source": [
    "# driver = webdriver.Chrome()\n",
    "# driver.get('https://www.guazi.com/Detail?clueId=112678073')\n",
    "browser.get('https://www.guazi.com/Detail?clueId=112678073')"
   ]
  },
  {
   "cell_type": "code",
   "execution_count": 24,
   "id": "0ddd511a",
   "metadata": {
    "scrolled": true
   },
   "outputs": [],
   "source": [
    "page_text = browser.page_source"
   ]
  },
  {
   "cell_type": "code",
   "execution_count": null,
   "id": "28208ce0",
   "metadata": {},
   "outputs": [],
   "source": [
    "# price_first = browser.find_element_by_xpath('//*[@id=\"pageWrapper\"]/div[1]/div[3]/div[2]/div[1]/div[1]/div[2]/p/span[1]')\n",
    "# price_first.screenshot('yzm.png')"
   ]
  },
  {
   "cell_type": "code",
   "execution_count": 25,
   "id": "5ace4f14",
   "metadata": {},
   "outputs": [
    {
     "data": {
      "text/plain": [
       "True"
      ]
     },
     "execution_count": 25,
     "metadata": {},
     "output_type": "execute_result"
    }
   ],
   "source": [
    "price_first = browser.find_element_by_xpath('//*[@id=\"pageWrapper\"]/div[1]/div[3]/div[4]/div[2]/ul[1]/li[1]/span')\n",
    "price_first.screenshot('yzm.png')"
   ]
  },
  {
   "cell_type": "code",
   "execution_count": null,
   "id": "320f06ff",
   "metadata": {},
   "outputs": [],
   "source": []
  },
  {
   "cell_type": "code",
   "execution_count": 26,
   "id": "df4db452",
   "metadata": {},
   "outputs": [],
   "source": [
    "image_obj = Image.open('yzm.png')"
   ]
  },
  {
   "cell_type": "code",
   "execution_count": 27,
   "id": "02645099",
   "metadata": {
    "scrolled": true
   },
   "outputs": [
    {
     "name": "stdout",
     "output_type": "stream",
     "text": [
      "_EseEtia,\n",
      "\f",
      "\n"
     ]
    }
   ],
   "source": [
    "price_text = pytesseract.image_to_string(image_obj, lang=\"eng\")\n",
    "print(price_text)"
   ]
  },
  {
   "cell_type": "code",
   "execution_count": null,
   "id": "2f76bbbf",
   "metadata": {},
   "outputs": [],
   "source": []
  },
  {
   "cell_type": "code",
   "execution_count": null,
   "id": "25cf53c2",
   "metadata": {},
   "outputs": [],
   "source": []
  },
  {
   "cell_type": "code",
   "execution_count": null,
   "id": "ca2d5d99",
   "metadata": {},
   "outputs": [],
   "source": []
  },
  {
   "cell_type": "code",
   "execution_count": null,
   "id": "b04db9cc",
   "metadata": {},
   "outputs": [],
   "source": []
  },
  {
   "cell_type": "code",
   "execution_count": null,
   "id": "55ef1bb1",
   "metadata": {},
   "outputs": [],
   "source": [
    "from lxml import etree\n",
    "import time"
   ]
  },
  {
   "cell_type": "code",
   "execution_count": null,
   "id": "7c8d4fd8",
   "metadata": {},
   "outputs": [],
   "source": [
    "html = etree.HTML(page_text)"
   ]
  },
  {
   "cell_type": "code",
   "execution_count": null,
   "id": "f7ba350f",
   "metadata": {},
   "outputs": [],
   "source": [
    "car_list = html.xpath('//div[@class=\"carlist-content clearfix\"]/div')\n",
    "j = 1\n",
    "for i in car_list:\n",
    "    car_name = i.xpath('.//h5/text()')[0].strip().replace('\\n','')\n",
    "    print(car_name)\n",
    "    price_first = browser.find_element_by_xpath('//div[@class=\"carlist-content clearfix\"]/div[{}]//p[@class=\"price-now\"]'.format(j))\n",
    "    price_first.screenshot('yzm_{}.png'.format(j))\n",
    "    image_obj = Image.open('yzm_{}.png'.format(j))\n",
    "    price_text = pytesseract.image_to_string(image_obj, lang=\"eng\")\n",
    "    print(price_text)\n",
    "    j = j + 1"
   ]
  },
  {
   "cell_type": "code",
   "execution_count": null,
   "id": "e1f1399e",
   "metadata": {},
   "outputs": [],
   "source": []
  },
  {
   "cell_type": "code",
   "execution_count": null,
   "id": "6af3cb47",
   "metadata": {},
   "outputs": [],
   "source": []
  },
  {
   "cell_type": "code",
   "execution_count": null,
   "id": "a2a23a3d",
   "metadata": {},
   "outputs": [],
   "source": []
  },
  {
   "cell_type": "code",
   "execution_count": null,
   "id": "05e65407",
   "metadata": {},
   "outputs": [],
   "source": []
  },
  {
   "cell_type": "code",
   "execution_count": null,
   "id": "f72f2111",
   "metadata": {},
   "outputs": [],
   "source": [
    "from selenium.webdriver import Chrome, ActionChains, FirefoxProfile\n",
    "from selenium.webdriver.chrome.options import Options\n",
    "from PIL import Image\n",
    "import time\n",
    "from selenium import webdriver\n",
    "import pytesseract"
   ]
  },
  {
   "cell_type": "code",
   "execution_count": null,
   "id": "3ea74458",
   "metadata": {},
   "outputs": [],
   "source": [
    "chrome_options = Options()\n",
    "# chrome_options.add_argument('--headless')\n",
    "# chrome_options.add_argument('--disable-gpu')\n",
    "# chrome_options.add_argument('--no-sandbox')\n",
    "# 去掉提示：Chrome正收到自动测试软件的控制\n",
    "chrome_options.add_argument('disable-infobars')\n",
    "# chrome_options.add_argument('--proxy-server=192.168.2.144:16127')\n",
    "ua = 'Mozilla/5.0 (Windows NT 6.1; WOW64) AppleWebKit/537.1 (KHTML, like Gecko) Chrome/22.0.1207.1 Safari/537.1'\n",
    "chrome_options.add_argument('user-agent=' + ua)\n",
    "browser = Chrome(options=chrome_options)"
   ]
  },
  {
   "cell_type": "code",
   "execution_count": null,
   "id": "ce25d8b0",
   "metadata": {},
   "outputs": [],
   "source": [
    "browser.get('https://www.guazi.com/buy')"
   ]
  },
  {
   "cell_type": "code",
   "execution_count": 28,
   "id": "db5534bd",
   "metadata": {},
   "outputs": [],
   "source": [
    "def parse(self,response):\n",
    "    car_pinpai=response.xpath('//div[@id=\"pageWrapper\"]/div[1]/div[3]/div[2]/div[1]/div[1]each')\n",
    "    for each_car in car_pinpai:\n",
    "        car_name=each_car.xpath('.//[1]').extract_first()\n",
    "        "
   ]
  },
  {
   "cell_type": "code",
   "execution_count": null,
   "id": "19c8b898",
   "metadata": {},
   "outputs": [],
   "source": []
  },
  {
   "cell_type": "code",
   "execution_count": null,
   "id": "e8b6c439",
   "metadata": {},
   "outputs": [],
   "source": []
  },
  {
   "cell_type": "code",
   "execution_count": null,
   "id": "9d88549d",
   "metadata": {},
   "outputs": [],
   "source": []
  },
  {
   "cell_type": "code",
   "execution_count": null,
   "id": "828b57f6",
   "metadata": {},
   "outputs": [],
   "source": []
  },
  {
   "cell_type": "code",
   "execution_count": null,
   "id": "be90fd33",
   "metadata": {},
   "outputs": [],
   "source": []
  },
  {
   "cell_type": "code",
   "execution_count": null,
   "id": "d3d9ce56",
   "metadata": {},
   "outputs": [],
   "source": []
  },
  {
   "cell_type": "code",
   "execution_count": null,
   "id": "87262759",
   "metadata": {},
   "outputs": [],
   "source": []
  },
  {
   "cell_type": "code",
   "execution_count": null,
   "id": "ee5588da",
   "metadata": {},
   "outputs": [],
   "source": []
  },
  {
   "cell_type": "code",
   "execution_count": null,
   "id": "4cbf0d2f",
   "metadata": {},
   "outputs": [],
   "source": [
    "\n"
   ]
  }
 ],
 "metadata": {
  "kernelspec": {
   "display_name": "Python 3",
   "language": "python",
   "name": "python3"
  },
  "language_info": {
   "codemirror_mode": {
    "name": "ipython",
    "version": 3
   },
   "file_extension": ".py",
   "mimetype": "text/x-python",
   "name": "python",
   "nbconvert_exporter": "python",
   "pygments_lexer": "ipython3",
   "version": "3.8.8"
  }
 },
 "nbformat": 4,
 "nbformat_minor": 5
}