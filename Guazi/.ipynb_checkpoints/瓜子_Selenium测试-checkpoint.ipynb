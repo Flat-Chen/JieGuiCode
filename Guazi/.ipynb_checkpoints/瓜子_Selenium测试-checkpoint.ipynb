{
 "cells": [
  {
   "cell_type": "code",
   "execution_count": null,
   "id": "74edaef0",
   "metadata": {},
   "outputs": [],
   "source": [
    "from selenium.webdriver import Chrome, ActionChains, FirefoxProfile\n",
    "from selenium.webdriver.chrome.options import Options\n",
    "from PIL import Image\n",
    "import pytesseract"
   ]
  },
  {
   "cell_type": "code",
   "execution_count": null,
   "id": "36c1fa27",
   "metadata": {},
   "outputs": [],
   "source": [
    "chrome_options = Options()\n",
    "# chrome_options.add_argument('--headless')\n",
    "# chrome_options.add_argument('--disable-gpu')\n",
    "# chrome_options.add_argument('--no-sandbox')\n",
    "# 去掉提示：Chrome正收到自动测试软件的控制\n",
    "chrome_options.add_argument('disable-infobars')\n",
    "# chrome_options.add_argument('--proxy-server=192.168.2.144:16127')\n",
    "ua = 'Mozilla/5.0 (Windows NT 6.1; WOW64) AppleWebKit/537.1 (KHTML, like Gecko) Chrome/22.0.1207.1 Safari/537.1'\n",
    "chrome_options.add_argument('user-agent=' + ua)\n",
    "browser = Chrome(options=chrome_options)"
   ]
  },
  {
   "cell_type": "code",
   "execution_count": null,
   "id": "57f642fd",
   "metadata": {},
   "outputs": [],
   "source": [
    "browser.get('https://www.guazi.com/buy')"
   ]
  },
  {
   "cell_type": "code",
   "execution_count": null,
   "id": "58f9e122",
   "metadata": {},
   "outputs": [],
   "source": [
    "browser.get('https://www.guazi.com/Detail?clueId=109772989')"
   ]
  },
  {
   "cell_type": "code",
   "execution_count": null,
   "id": "7ef4002f",
   "metadata": {},
   "outputs": [],
   "source": []
  },
  {
   "cell_type": "code",
   "execution_count": null,
   "id": "0ddd511a",
   "metadata": {
    "scrolled": true
   },
   "outputs": [],
   "source": [
    "page_text = browser.page_source"
   ]
  },
  {
   "cell_type": "code",
   "execution_count": 1,
   "id": "28208ce0",
   "metadata": {},
   "outputs": [
    {
     "ename": "NameError",
     "evalue": "name 'browser' is not defined",
     "output_type": "error",
     "traceback": [
      "\u001b[1;31m---------------------------------------------------------------------------\u001b[0m",
      "\u001b[1;31mNameError\u001b[0m                                 Traceback (most recent call last)",
      "\u001b[1;32m<ipython-input-1-f0467d46a81d>\u001b[0m in \u001b[0;36m<module>\u001b[1;34m\u001b[0m\n\u001b[1;32m----> 1\u001b[1;33m \u001b[0mprice_first\u001b[0m \u001b[1;33m=\u001b[0m \u001b[0mbrowser\u001b[0m\u001b[1;33m.\u001b[0m\u001b[0mfind_element_by_xpath\u001b[0m\u001b[1;33m(\u001b[0m\u001b[1;34m'//*[@id=\"pageWrapper\"]/div[1]/div[3]/div[2]/div[1]/div[1]/div[2]/p/span[1]'\u001b[0m\u001b[1;33m)\u001b[0m\u001b[1;33m\u001b[0m\u001b[1;33m\u001b[0m\u001b[0m\n\u001b[0m\u001b[0;32m      2\u001b[0m \u001b[0mprice_first\u001b[0m\u001b[1;33m.\u001b[0m\u001b[0mscreenshot\u001b[0m\u001b[1;33m(\u001b[0m\u001b[1;34m'yzm.png'\u001b[0m\u001b[1;33m)\u001b[0m\u001b[1;33m\u001b[0m\u001b[1;33m\u001b[0m\u001b[0m\n",
      "\u001b[1;31mNameError\u001b[0m: name 'browser' is not defined"
     ]
    }
   ],
   "source": [
    "price_first = browser.find_element_by_xpath('//*[@id=\"pageWrapper\"]/div[1]/div[3]/div[2]/div[1]/div[1]/div[2]/p/span[1]')\n",
    "price_first.screenshot('yzm.png')"
   ]
  },
  {
   "cell_type": "code",
   "execution_count": null,
   "id": "351c6292",
   "metadata": {},
   "outputs": [],
   "source": []
  },
  {
   "cell_type": "code",
   "execution_count": null,
   "id": "5ace4f14",
   "metadata": {},
   "outputs": [],
   "source": []
  },
  {
   "cell_type": "code",
   "execution_count": null,
   "id": "df4db452",
   "metadata": {},
   "outputs": [],
   "source": [
    "image_obj = Image.open('yzm.png')"
   ]
  },
  {
   "cell_type": "code",
   "execution_count": null,
   "id": "02645099",
   "metadata": {
    "scrolled": true
   },
   "outputs": [],
   "source": [
    "price_text = pytesseract.image_to_string(image_obj, lang=\"eng\")\n",
    "print(price_text)"
   ]
  },
  {
   "cell_type": "code",
   "execution_count": null,
   "id": "55ef1bb1",
   "metadata": {},
   "outputs": [],
   "source": [
    "from lxml import etree\n",
    "import time"
   ]
  },
  {
   "cell_type": "code",
   "execution_count": null,
   "id": "7c8d4fd8",
   "metadata": {},
   "outputs": [],
   "source": [
    "html = etree.HTML(page_text)"
   ]
  },
  {
   "cell_type": "code",
   "execution_count": null,
   "id": "f7ba350f",
   "metadata": {},
   "outputs": [],
   "source": [
    "car_list = html.xpath('//div[@class=\"carlist-content clearfix\"]/div')\n",
    "j = 1\n",
    "for i in car_list:\n",
    "    car_name = i.xpath('.//h5/text()')[0].strip().replace('\\n','')\n",
    "    print(car_name)\n",
    "    price_first = browser.find_element_by_xpath('//div[@class=\"carlist-content clearfix\"]/div[{}]//p[@class=\"price-now\"]'.format(j))\n",
    "    price_first.screenshot('yzm_{}.png'.format(j))\n",
    "    image_obj = Image.open('yzm_{}.png'.format(j))\n",
    "    price_text = pytesseract.image_to_string(image_obj, lang=\"eng\")\n",
    "    print(price_text)\n",
    "    j = j + 1"
   ]
  },
  {
   "cell_type": "code",
   "execution_count": null,
   "id": "e1f1399e",
   "metadata": {},
   "outputs": [],
   "source": []
  },
  {
   "cell_type": "code",
   "execution_count": null,
   "id": "6af3cb47",
   "metadata": {},
   "outputs": [],
   "source": []
  },
  {
   "cell_type": "code",
   "execution_count": null,
   "id": "db5534bd",
   "metadata": {},
   "outputs": [],
   "source": []
  },
  {
   "cell_type": "code",
   "execution_count": null,
   "id": "19c8b898",
   "metadata": {},
   "outputs": [],
   "source": []
  }
 ],
 "metadata": {
  "kernelspec": {
   "display_name": "Python 3",
   "language": "python",
   "name": "python3"
  },
  "language_info": {
   "codemirror_mode": {
    "name": "ipython",
    "version": 3
   },
   "file_extension": ".py",
   "mimetype": "text/x-python",
   "name": "python",
   "nbconvert_exporter": "python",
   "pygments_lexer": "ipython3",
   "version": "3.8.8"
  }
 },
 "nbformat": 4,
 "nbformat_minor": 5
}
